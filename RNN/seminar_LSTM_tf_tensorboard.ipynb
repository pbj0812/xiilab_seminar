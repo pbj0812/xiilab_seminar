{
 "cells": [
  {
   "cell_type": "code",
   "execution_count": 1,
   "metadata": {},
   "outputs": [],
   "source": [
    "# 2019.02.11 seminar LSTM part(RNN)\n",
    "# made by pbj0812\n",
    "# mnist classification by RNN"
   ]
  },
  {
   "cell_type": "code",
   "execution_count": 2,
   "metadata": {},
   "outputs": [],
   "source": [
    "import tensorflow as tf"
   ]
  },
  {
   "cell_type": "code",
   "execution_count": 3,
   "metadata": {},
   "outputs": [
    {
     "name": "stdout",
     "output_type": "stream",
     "text": [
      "WARNING:tensorflow:From <ipython-input-3-7f775501aca7>:2: read_data_sets (from tensorflow.contrib.learn.python.learn.datasets.mnist) is deprecated and will be removed in a future version.\n",
      "Instructions for updating:\n",
      "Please use alternatives such as official/mnist/dataset.py from tensorflow/models.\n",
      "WARNING:tensorflow:From C:\\Users\\user\\Anaconda3\\lib\\site-packages\\tensorflow\\contrib\\learn\\python\\learn\\datasets\\mnist.py:260: maybe_download (from tensorflow.contrib.learn.python.learn.datasets.base) is deprecated and will be removed in a future version.\n",
      "Instructions for updating:\n",
      "Please write your own downloading logic.\n",
      "WARNING:tensorflow:From C:\\Users\\user\\Anaconda3\\lib\\site-packages\\tensorflow\\contrib\\learn\\python\\learn\\datasets\\mnist.py:262: extract_images (from tensorflow.contrib.learn.python.learn.datasets.mnist) is deprecated and will be removed in a future version.\n",
      "Instructions for updating:\n",
      "Please use tf.data to implement this functionality.\n",
      "Extracting ../mnist/data\\train-images-idx3-ubyte.gz\n",
      "WARNING:tensorflow:From C:\\Users\\user\\Anaconda3\\lib\\site-packages\\tensorflow\\contrib\\learn\\python\\learn\\datasets\\mnist.py:267: extract_labels (from tensorflow.contrib.learn.python.learn.datasets.mnist) is deprecated and will be removed in a future version.\n",
      "Instructions for updating:\n",
      "Please use tf.data to implement this functionality.\n",
      "Extracting ../mnist/data\\train-labels-idx1-ubyte.gz\n",
      "WARNING:tensorflow:From C:\\Users\\user\\Anaconda3\\lib\\site-packages\\tensorflow\\contrib\\learn\\python\\learn\\datasets\\mnist.py:110: dense_to_one_hot (from tensorflow.contrib.learn.python.learn.datasets.mnist) is deprecated and will be removed in a future version.\n",
      "Instructions for updating:\n",
      "Please use tf.one_hot on tensors.\n",
      "Extracting ../mnist/data\\t10k-images-idx3-ubyte.gz\n",
      "Extracting ../mnist/data\\t10k-labels-idx1-ubyte.gz\n",
      "WARNING:tensorflow:From C:\\Users\\user\\Anaconda3\\lib\\site-packages\\tensorflow\\contrib\\learn\\python\\learn\\datasets\\mnist.py:290: DataSet.__init__ (from tensorflow.contrib.learn.python.learn.datasets.mnist) is deprecated and will be removed in a future version.\n",
      "Instructions for updating:\n",
      "Please use alternatives such as official/mnist/dataset.py from tensorflow/models.\n"
     ]
    }
   ],
   "source": [
    "from tensorflow.examples.tutorials.mnist import input_data\n",
    "mnist = input_data.read_data_sets(\"../mnist/data\", one_hot=True)"
   ]
  },
  {
   "cell_type": "code",
   "execution_count": 4,
   "metadata": {},
   "outputs": [],
   "source": [
    "learning_rate = 0.001\n",
    "total_epoch = 100\n",
    "batch_size = 128"
   ]
  },
  {
   "cell_type": "code",
   "execution_count": 5,
   "metadata": {},
   "outputs": [],
   "source": [
    "global_step = tf.Variable(0, trainable=False, name='global_step')"
   ]
  },
  {
   "cell_type": "code",
   "execution_count": 6,
   "metadata": {},
   "outputs": [],
   "source": [
    "n_input = 28\n",
    "n_step = 28\n",
    "n_hidden = 128\n",
    "n_class = 10"
   ]
  },
  {
   "cell_type": "code",
   "execution_count": 7,
   "metadata": {},
   "outputs": [],
   "source": [
    "X = tf.placeholder(tf.float32, [None, n_step, n_input]) # y : 28, x : 28\n",
    "Y = tf.placeholder(tf.float32, [None, n_class]) # 10 class (0~9)"
   ]
  },
  {
   "cell_type": "code",
   "execution_count": 8,
   "metadata": {},
   "outputs": [],
   "source": [
    "with tf.name_scope('layer1'):\n",
    "    W = tf.Variable(tf.random_normal([n_hidden, n_class]), name='W') # 128 layer, 10 class\n",
    "    b = tf.Variable(tf.random_normal([n_class])) # 10 class\n",
    "\n",
    "with tf.name_scope('output'):\n",
    "    cell = tf.nn.rnn_cell.BasicLSTMCell(n_hidden) # create RNN cell that have n_hidden(output)\n",
    "    outputs, states = tf.nn.dynamic_rnn(cell, X, dtype=tf.float32)\n",
    "    # outputs : [batch_size, n_step, n_hidden]\n",
    "    outputs = tf.transpose(outputs, [1, 0, 2]) # [n_step, batch_size, n_hidden]\n",
    "    outputs = outputs[-1] # [batch_size, n_hidden]\n",
    "    model = tf.matmul(outputs, W) + b"
   ]
  },
  {
   "cell_type": "code",
   "execution_count": 9,
   "metadata": {},
   "outputs": [
    {
     "name": "stdout",
     "output_type": "stream",
     "text": [
      "WARNING:tensorflow:From <ipython-input-9-883358f6952d>:2: softmax_cross_entropy_with_logits (from tensorflow.python.ops.nn_ops) is deprecated and will be removed in a future version.\n",
      "Instructions for updating:\n",
      "\n",
      "Future major versions of TensorFlow will allow gradients to flow\n",
      "into the labels input on backprop by default.\n",
      "\n",
      "See @{tf.nn.softmax_cross_entropy_with_logits_v2}.\n",
      "\n"
     ]
    }
   ],
   "source": [
    "with tf.name_scope('optimizer'):\n",
    "    cost = tf.reduce_mean(tf.nn.softmax_cross_entropy_with_logits(logits=model, labels=Y))\n",
    "    # global_step!!!\n",
    "    optimizer = tf.train.AdamOptimizer(learning_rate).minimize(cost, global_step=global_step)\n",
    "    tf.summary.scalar('cost', cost)"
   ]
  },
  {
   "cell_type": "code",
   "execution_count": 10,
   "metadata": {},
   "outputs": [],
   "source": [
    "# train"
   ]
  },
  {
   "cell_type": "code",
   "execution_count": 11,
   "metadata": {},
   "outputs": [],
   "source": [
    "sess = tf.Session()\n",
    "saver = tf.train.Saver(tf.global_variables())\n",
    "\n",
    "ckpt = tf.train.get_checkpoint_state('./model')\n",
    "if ckpt and tf.train.checkpoint_exists(ckpt.model_checkpoint_path):\n",
    "    saver.restore(sess, ckpt.model_checkpoint_path)\n",
    "else:\n",
    "    sess.run(tf.global_variables_initializer())"
   ]
  },
  {
   "cell_type": "code",
   "execution_count": 12,
   "metadata": {},
   "outputs": [],
   "source": [
    "merged = tf.summary.merge_all()\n",
    "writer = tf.summary.FileWriter('./logs', sess.graph)"
   ]
  },
  {
   "cell_type": "code",
   "execution_count": 13,
   "metadata": {},
   "outputs": [],
   "source": [
    "total_batch = int(mnist.train.num_examples / batch_size)"
   ]
  },
  {
   "cell_type": "code",
   "execution_count": 14,
   "metadata": {
    "scrolled": false
   },
   "outputs": [
    {
     "name": "stdout",
     "output_type": "stream",
     "text": [
      "Epoch :  0001 Avg. cost = 0.447\n",
      "Epoch :  0002 Avg. cost = 0.131\n",
      "Epoch :  0003 Avg. cost = 0.090\n",
      "Epoch :  0004 Avg. cost = 0.067\n",
      "Epoch :  0005 Avg. cost = 0.056\n",
      "Epoch :  0006 Avg. cost = 0.046\n",
      "Epoch :  0007 Avg. cost = 0.039\n",
      "Epoch :  0008 Avg. cost = 0.036\n",
      "Epoch :  0009 Avg. cost = 0.032\n",
      "Epoch :  0010 Avg. cost = 0.029\n",
      "Epoch :  0011 Avg. cost = 0.026\n",
      "Epoch :  0012 Avg. cost = 0.021\n",
      "Epoch :  0013 Avg. cost = 0.022\n",
      "Epoch :  0014 Avg. cost = 0.021\n",
      "Epoch :  0015 Avg. cost = 0.019\n",
      "Epoch :  0016 Avg. cost = 0.016\n",
      "Epoch :  0017 Avg. cost = 0.014\n",
      "Epoch :  0018 Avg. cost = 0.013\n",
      "Epoch :  0019 Avg. cost = 0.016\n",
      "Epoch :  0020 Avg. cost = 0.013\n",
      "Epoch :  0021 Avg. cost = 0.013\n",
      "Epoch :  0022 Avg. cost = 0.010\n",
      "Epoch :  0023 Avg. cost = 0.010\n",
      "Epoch :  0024 Avg. cost = 0.011\n",
      "Epoch :  0025 Avg. cost = 0.009\n",
      "Epoch :  0026 Avg. cost = 0.006\n",
      "Epoch :  0027 Avg. cost = 0.009\n",
      "Epoch :  0028 Avg. cost = 0.011\n",
      "Epoch :  0029 Avg. cost = 0.007\n",
      "Epoch :  0030 Avg. cost = 0.006\n",
      "Epoch :  0031 Avg. cost = 0.008\n",
      "Epoch :  0032 Avg. cost = 0.007\n",
      "Epoch :  0033 Avg. cost = 0.008\n",
      "Epoch :  0034 Avg. cost = 0.003\n",
      "Epoch :  0035 Avg. cost = 0.006\n",
      "Epoch :  0036 Avg. cost = 0.006\n",
      "Epoch :  0037 Avg. cost = 0.008\n",
      "Epoch :  0038 Avg. cost = 0.005\n",
      "Epoch :  0039 Avg. cost = 0.004\n",
      "Epoch :  0040 Avg. cost = 0.003\n",
      "Epoch :  0041 Avg. cost = 0.006\n",
      "Epoch :  0042 Avg. cost = 0.006\n",
      "Epoch :  0043 Avg. cost = 0.004\n",
      "Epoch :  0044 Avg. cost = 0.004\n",
      "Epoch :  0045 Avg. cost = 0.005\n",
      "Epoch :  0046 Avg. cost = 0.007\n",
      "Epoch :  0047 Avg. cost = 0.003\n",
      "Epoch :  0048 Avg. cost = 0.003\n",
      "Epoch :  0049 Avg. cost = 0.002\n",
      "Epoch :  0050 Avg. cost = 0.005\n",
      "Epoch :  0051 Avg. cost = 0.004\n",
      "Epoch :  0052 Avg. cost = 0.005\n",
      "Epoch :  0053 Avg. cost = 0.002\n",
      "Epoch :  0054 Avg. cost = 0.003\n",
      "Epoch :  0055 Avg. cost = 0.007\n",
      "Epoch :  0056 Avg. cost = 0.003\n",
      "Epoch :  0057 Avg. cost = 0.001\n",
      "Epoch :  0058 Avg. cost = 0.001\n",
      "Epoch :  0059 Avg. cost = 0.000\n",
      "Epoch :  0060 Avg. cost = 0.000\n",
      "Epoch :  0061 Avg. cost = 0.013\n",
      "Epoch :  0062 Avg. cost = 0.002\n",
      "Epoch :  0063 Avg. cost = 0.000\n",
      "Epoch :  0064 Avg. cost = 0.000\n",
      "Epoch :  0065 Avg. cost = 0.000\n",
      "Epoch :  0066 Avg. cost = 0.009\n",
      "Epoch :  0067 Avg. cost = 0.006\n",
      "Epoch :  0068 Avg. cost = 0.003\n",
      "Epoch :  0069 Avg. cost = 0.002\n",
      "Epoch :  0070 Avg. cost = 0.000\n",
      "Epoch :  0071 Avg. cost = 0.000\n",
      "Epoch :  0072 Avg. cost = 0.000\n",
      "Epoch :  0073 Avg. cost = 0.000\n",
      "Epoch :  0074 Avg. cost = 0.000\n",
      "Epoch :  0075 Avg. cost = 0.012\n",
      "Epoch :  0076 Avg. cost = 0.004\n",
      "Epoch :  0077 Avg. cost = 0.002\n",
      "Epoch :  0078 Avg. cost = 0.004\n",
      "Epoch :  0079 Avg. cost = 0.001\n",
      "Epoch :  0080 Avg. cost = 0.000\n",
      "Epoch :  0081 Avg. cost = 0.000\n",
      "Epoch :  0082 Avg. cost = 0.000\n",
      "Epoch :  0083 Avg. cost = 0.000\n",
      "Epoch :  0084 Avg. cost = 0.000\n",
      "Epoch :  0085 Avg. cost = 0.000\n",
      "Epoch :  0086 Avg. cost = 0.000\n",
      "Epoch :  0087 Avg. cost = 0.000\n",
      "Epoch :  0088 Avg. cost = 0.000\n",
      "Epoch :  0089 Avg. cost = 0.000\n",
      "Epoch :  0090 Avg. cost = 0.000\n",
      "Epoch :  0091 Avg. cost = 0.000\n",
      "Epoch :  0092 Avg. cost = 0.000\n",
      "Epoch :  0093 Avg. cost = 0.000\n",
      "Epoch :  0094 Avg. cost = 0.000\n",
      "Epoch :  0095 Avg. cost = 0.000\n",
      "Epoch :  0096 Avg. cost = 0.000\n",
      "Epoch :  0097 Avg. cost = 0.000\n",
      "Epoch :  0098 Avg. cost = 0.000\n",
      "Epoch :  0099 Avg. cost = 0.000\n",
      "Epoch :  0100 Avg. cost = 0.000\n",
      "complete!!!\n"
     ]
    }
   ],
   "source": [
    "for epoch in range(total_epoch):\n",
    "    total_cost = 0\n",
    "    \n",
    "    for i in range(total_batch):\n",
    "        batch_xs, batch_ys = mnist.train.next_batch(batch_size)\n",
    "        batch_xs = batch_xs.reshape((batch_size, n_step, n_input))\n",
    "        \n",
    "        _, cost_val = sess.run([optimizer, cost],\n",
    "                              feed_dict = {X:batch_xs, Y:batch_ys})\n",
    "        total_cost += cost_val\n",
    "        \n",
    "    print('Epoch : ', '%04d' % (epoch + 1),\n",
    "         'Avg. cost =', '{:.3f}'.format(total_cost / total_batch))\n",
    "    \n",
    "    summary = sess.run(merged, feed_dict={X:batch_xs, Y:batch_ys})\n",
    "    writer.add_summary(summary, global_step=sess.run(global_step))\n",
    "\n",
    "saver.save(sess, './model/lstm.ckpt', global_step=global_step)\n",
    "print('complete!!!')"
   ]
  },
  {
   "cell_type": "code",
   "execution_count": 15,
   "metadata": {},
   "outputs": [],
   "source": [
    "is_correct = tf.equal(tf.argmax(model, 1), tf.argmax(Y, 1))\n",
    "accuracy = tf.reduce_mean(tf.cast(is_correct, tf.float32))"
   ]
  },
  {
   "cell_type": "code",
   "execution_count": 16,
   "metadata": {},
   "outputs": [],
   "source": [
    "test_batch_size = len(mnist.test.images)\n",
    "test_xs = mnist.test.images.reshape(test_batch_size, n_step, n_input)\n",
    "test_ys = mnist.test.labels"
   ]
  },
  {
   "cell_type": "code",
   "execution_count": 17,
   "metadata": {},
   "outputs": [
    {
     "name": "stdout",
     "output_type": "stream",
     "text": [
      "accuracy :  0.9907\n"
     ]
    }
   ],
   "source": [
    "print('accuracy : ', sess.run(accuracy, feed_dict={X:test_xs, Y:test_ys}))"
   ]
  }
 ],
 "metadata": {
  "kernelspec": {
   "display_name": "Python 3",
   "language": "python",
   "name": "python3"
  },
  "language_info": {
   "codemirror_mode": {
    "name": "ipython",
    "version": 3
   },
   "file_extension": ".py",
   "mimetype": "text/x-python",
   "name": "python",
   "nbconvert_exporter": "python",
   "pygments_lexer": "ipython3",
   "version": "3.5.6"
  }
 },
 "nbformat": 4,
 "nbformat_minor": 2
}
